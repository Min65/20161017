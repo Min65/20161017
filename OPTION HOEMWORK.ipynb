{
 "cells": [
  {
   "cell_type": "code",
   "execution_count": 9,
   "metadata": {
    "collapsed": true
   },
   "outputs": [],
   "source": [
    "class BlackSholes_PUT:\n",
    "    # 方法：初始化屬性\n",
    "    def __init__(self, S0, K, T, r, Sigma, div = 0):\n",
    "        self.S0 = S0  \n",
    "        self.K = K \n",
    "        self.T = T  \n",
    "        self.r = r\n",
    "        self.Sigma = Sigma\n",
    "        self.div = div\n",
    "        \n",
    "    # 方法：Closed-form Solution (CFPUT)\n",
    "    def Put_Value_CF(self):\n",
    "        from math import log, sqrt, exp\n",
    "        from scipy import stats\n",
    "        d1 = (log(S0 / K) + (r + 0.5 * Sigma ** 2) * T) / (Sigma * sqrt(T))\n",
    "        d2 = (log(S0 / K) + (r - 0.5 * Sigma ** 2) * T) / (Sigma * sqrt(T))\n",
    "        P0 = (stats.norm.cdf(-d2, 0, 1))* K * exp(-r * T) - stats.norm.cdf(-d1, 0, 1) * S0 \n",
    "        #return P0\n",
    "        ValMethod = 'CFPUT'\n",
    "        self.display(ValMethod, P0)\n",
    "        \n",
    "    # 方法：Monte Carlo Simulation (MSC)\n",
    "    def Put_Value_MSC(self, N = 10000):\n",
    "        from numpy import random, sqrt, exp, maximum, sum\n",
    "        z = random.standard_normal(N)\n",
    "        ST = S0 * exp((r - 0.5 * Sigma ** 2) * T + Sigma * sqrt(T) * z)\n",
    "        PT = maximum(K - ST , 0)\n",
    "        P0 = exp(-r * T) * sum(PT) / N\n",
    "        #return C0\n",
    "        ValMethod = 'MSC' + ' [N =' + str(N) + ']'\n",
    "        self.display(ValMethod, P0)\n",
    "            \n",
    "    # 方法：顯示計算結果\n",
    "    def display(self, ValMethod, P0):\n",
    "        print('Put (' + ValMethod + '): ' + str(P0))"
   ]
  },
  {
   "cell_type": "code",
   "execution_count": 11,
   "metadata": {
    "collapsed": false
   },
   "outputs": [
    {
     "name": "stdout",
     "output_type": "stream",
     "text": [
      "Put (CFPUT): 7.90044180772\n",
      "Put (MSC [N =10000]): 7.87401805814\n",
      "Put (MSC [N =100000]): 7.86563771263\n"
     ]
    }
   ],
   "source": [
    "S0 = 100\n",
    "K = 105\n",
    "T = 1\n",
    "r = 0.05\n",
    "Sigma = 0.2\n",
    "N = 100000\n",
    "\n",
    "BS = BlackSholes_PUT(S0, K, T, r, Sigma)\n",
    "BS.Put_Value_CF()\n",
    "BS.Put_Value_MSC()\n",
    "BS.Put_Value_MSC(100000)"
   ]
  },
  {
   "cell_type": "code",
   "execution_count": 50,
   "metadata": {
    "collapsed": true
   },
   "outputs": [],
   "source": [
    "class Value_D1:\n",
    "    # 方法：初始化屬性\n",
    "    def __init__(self,S0, K, T, r, Sigma):\n",
    "        self.S0 = S0  \n",
    "        self.K = K \n",
    "        self.T = T  \n",
    "        self.r = r\n",
    "        self.Sigma = Sigma\n",
    "        \n",
    "    # 方法 : 計算 d1\n",
    "    def Value(self):\n",
    "        from math import log, sqrt, exp\n",
    "        d1 = (log(S0 / K) + (r + 0.5 * Sigma ** 2) * T) / (Sigma * sqrt(T))\n",
    "        self.display(d1)\n",
    "            \n",
    "    # 方法：顯示計算結果\n",
    "    def display(self):\n",
    "        print(str(d1))              "
   ]
  },
  {
   "cell_type": "code",
   "execution_count": 51,
   "metadata": {
    "collapsed": false
   },
   "outputs": [
    {
     "data": {
      "text/plain": [
       "<__main__.Value_D1 at 0xa07f7588d0>"
      ]
     },
     "execution_count": 51,
     "metadata": {},
     "output_type": "execute_result"
    }
   ],
   "source": [
    "S0 = 100\n",
    "K = 105\n",
    "T = 1\n",
    "r = 0.05\n",
    "Sigma = 0.2\n",
    "\n",
    "D1 = Value_D1(S0, K, T, r, Sigma)\n",
    "D1"
   ]
  },
  {
   "cell_type": "code",
   "execution_count": 52,
   "metadata": {
    "collapsed": true
   },
   "outputs": [],
   "source": [
    "class Value_D2:\n",
    "    # 方法：初始化屬性\n",
    "    def __init__(self,S0, K, T, r, Sigma):\n",
    "        self.S0 = S0  \n",
    "        self.K = K \n",
    "        self.T = T  \n",
    "        self.r = r\n",
    "        self.Sigma = Sigma\n",
    "        \n",
    "    # 方法 : 計算 d2\n",
    "    def Value(self):\n",
    "        from math import log, sqrt, exp\n",
    "        d2 = (log(S0 / K) + (r - 0.5 * Sigma ** 2) * T) / (Sigma * sqrt(T))\n",
    "        self.display(d2)\n",
    "            \n",
    "    # 方法：顯示計算結果\n",
    "    def display(self):\n",
    "        print(str(d2))     "
   ]
  },
  {
   "cell_type": "code",
   "execution_count": 53,
   "metadata": {
    "collapsed": false
   },
   "outputs": [
    {
     "data": {
      "text/plain": [
       "<__main__.Value_D2 at 0xa07f729ac8>"
      ]
     },
     "execution_count": 53,
     "metadata": {},
     "output_type": "execute_result"
    }
   ],
   "source": [
    "S0 = 100\n",
    "K = 105\n",
    "T = 1\n",
    "r = 0.05\n",
    "Sigma = 0.2\n",
    "\n",
    "D2 = Value_D2(S0, K, T, r, Sigma)\n",
    "D2"
   ]
  }
 ],
 "metadata": {
  "kernelspec": {
   "display_name": "Python 3",
   "language": "python",
   "name": "python3"
  },
  "language_info": {
   "codemirror_mode": {
    "name": "ipython",
    "version": 3
   },
   "file_extension": ".py",
   "mimetype": "text/x-python",
   "name": "python",
   "nbconvert_exporter": "python",
   "pygments_lexer": "ipython3",
   "version": "3.5.1"
  }
 },
 "nbformat": 4,
 "nbformat_minor": 0
}
